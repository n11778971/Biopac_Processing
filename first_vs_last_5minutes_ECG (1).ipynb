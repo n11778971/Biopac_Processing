{
 "cells": [
  {
   "cell_type": "code",
   "execution_count": 1,
   "id": "117e62e0-b293-4c50-a29f-11a1b63ab578",
   "metadata": {},
   "outputs": [
    {
     "name": "stdout",
     "output_type": "stream",
     "text": [
      "Mean BPM (First 5 minutes): 62.02, SD: 6.86\n",
      "Mean BPM (Last 5 minutes): 53.43, SD: 2.56\n",
      "T-statistic: 454.31\n",
      "P-value: 0.0000\n",
      "The difference in mean BPM between the first and last 5 minutes is statistically significant.\n"
     ]
    }
   ],
   "source": [
    "import neurokit2 as nk\n",
    "import matplotlib.pyplot as plt\n",
    "import pandas as pd\n",
    "from scipy.stats import ttest_ind\n",
    "\n",
    "# Define the path to your .acq file\n",
    "file_path = '/Users/cockraml/Library/CloudStorage/OneDrive-QueenslandUniversityofTechnology/Desktop/EDA and ECG Analysis/Gerber acq files/gerber_example_1.acq'\n",
    "\n",
    "# Read the AcqKnowledge file\n",
    "data, sampling_rate = nk.read_acqknowledge(file_path)\n",
    "\n",
    "# Rename the ECG column if needed (assuming it's already named correctly)\n",
    "data.rename(columns={'ECG A, X, ECG2-R': 'ECG'}, inplace=True)\n",
    "\n",
    "# Process ECG\n",
    "ecg_signals, info = nk.ecg_process(data[\"ECG\"], sampling_rate=sampling_rate)\n",
    "\n",
    "# Extract heart rate (BPM) from processed ECG signals\n",
    "heart_rate = ecg_signals['ECG_Rate']\n",
    "\n",
    "# Define time intervals in terms of indices\n",
    "first_5_minutes_index = 5 * 60 * int(sampling_rate)\n",
    "last_5_minutes_index = -5 * 60 * int(sampling_rate)\n",
    "\n",
    "# Extract first and last 5 minutes of heart rate data\n",
    "first_5_minutes_hr = heart_rate.iloc[:first_5_minutes_index]\n",
    "last_5_minutes_hr = heart_rate.iloc[last_5_minutes_index:]\n",
    "\n",
    "# Compute mean and standard deviation for each period\n",
    "mean_first_5_minutes = first_5_minutes_hr.mean()\n",
    "std_first_5_minutes = first_5_minutes_hr.std()\n",
    "\n",
    "mean_last_5_minutes = last_5_minutes_hr.mean()\n",
    "std_last_5_minutes = last_5_minutes_hr.std()\n",
    "\n",
    "# Output results\n",
    "print(f\"Mean BPM (First 5 minutes): {mean_first_5_minutes:.2f}, SD: {std_first_5_minutes:.2f}\")\n",
    "print(f\"Mean BPM (Last 5 minutes): {mean_last_5_minutes:.2f}, SD: {std_last_5_minutes:.2f}\")\n",
    "\n",
    "#T TEST\n",
    "\n",
    "from scipy.stats import ttest_ind\n",
    "\n",
    "# Assuming you have already calculated mean BPM for first and last 5 minutes\n",
    "mean_first_5_minutes = 62.02\n",
    "mean_last_5_minutes = 53.43\n",
    "\n",
    "# Define the data arrays\n",
    "first_5_minutes_data = first_5_minutes_hr.dropna()  # Ensure data is clean and drop NaN values if any\n",
    "last_5_minutes_data = last_5_minutes_hr.dropna()\n",
    "\n",
    "# Perform t-test assuming unequal variances (Welch's t-test)\n",
    "t_statistic, p_value = ttest_ind(first_5_minutes_data, last_5_minutes_data, equal_var=False)\n",
    "\n",
    "# Output the results\n",
    "print(f\"T-statistic: {t_statistic:.2f}\")\n",
    "print(f\"P-value: {p_value:.4f}\")\n",
    "\n",
    "# Determine if the difference is significant\n",
    "alpha = 0.05  # Significance level\n",
    "if p_value < alpha:\n",
    "    print(\"The difference in mean BPM between the first and last 5 minutes is statistically significant.\")\n",
    "else:\n",
    "    print(\"The difference in mean BPM between the first and last 5 minutes is not statistically significant.\")"
   ]
  },
  {
   "cell_type": "code",
   "execution_count": 2,
   "id": "5e4c7870-5182-4c03-b6f7-5ea7738a8be0",
   "metadata": {},
   "outputs": [
    {
     "name": "stdout",
     "output_type": "stream",
     "text": [
      "T-statistic: 456.63\n",
      "P-value: 0.0000\n",
      "The difference in mean BPM between the first and last 5 minutes is statistically significant.\n"
     ]
    }
   ],
   "source": [
    "from scipy.stats import ttest_rel\n",
    "\n",
    "# Assuming you have already calculated mean BPM for first and last 5 minutes\n",
    "mean_first_5_minutes = 62.02\n",
    "mean_last_5_minutes = 53.43\n",
    "\n",
    "# Define the data arrays\n",
    "first_5_minutes_data = first_5_minutes_hr.dropna()  # Ensure data is clean and drop NaN values if any\n",
    "last_5_minutes_data = last_5_minutes_hr.dropna()\n",
    "\n",
    "# Perform paired t-test\n",
    "t_statistic, p_value = ttest_rel(first_5_minutes_data, last_5_minutes_data)\n",
    "\n",
    "# Output the results\n",
    "print(f\"T-statistic: {t_statistic:.2f}\")\n",
    "print(f\"P-value: {p_value:.4f}\")\n",
    "\n",
    "# Determine if the difference is significant\n",
    "alpha = 0.05  # Significance level\n",
    "if p_value < alpha:\n",
    "    print(\"The difference in mean BPM between the first and last 5 minutes is statistically significant.\")\n",
    "else:\n",
    "    print(\"The difference in mean BPM between the first and last 5 minutes is not statistically significant.\")\n"
   ]
  },
  {
   "cell_type": "code",
   "execution_count": null,
   "id": "da593e65-5607-4553-9cf9-e4d86616f233",
   "metadata": {},
   "outputs": [],
   "source": []
  }
 ],
 "metadata": {
  "kernelspec": {
   "display_name": "Python 3 (ipykernel)",
   "language": "python",
   "name": "python3"
  },
  "language_info": {
   "codemirror_mode": {
    "name": "ipython",
    "version": 3
   },
   "file_extension": ".py",
   "mimetype": "text/x-python",
   "name": "python",
   "nbconvert_exporter": "python",
   "pygments_lexer": "ipython3",
   "version": "3.11.8"
  }
 },
 "nbformat": 4,
 "nbformat_minor": 5
}
